{
 "cells": [
  {
   "cell_type": "code",
   "execution_count": 10,
   "metadata": {},
   "outputs": [],
   "source": [
    "import numpy as np\n",
    "import cv2\n",
    "import os.path"
   ]
  },
  {
   "cell_type": "code",
   "execution_count": 11,
   "metadata": {},
   "outputs": [],
   "source": [
    "# 读取图片\n",
    "frame = cv2.imread('./greyscaleImage.png')"
   ]
  },
  {
   "cell_type": "code",
   "execution_count": 12,
   "metadata": {},
   "outputs": [],
   "source": [
    "# 指定model所在路径\n",
    "protoFile = './models/colorization_deploy_v2.prototxt'\n",
    "weightFile = './models/colorization_release_v2.caffemodel'"
   ]
  },
  {
   "cell_type": "code",
   "execution_count": 13,
   "metadata": {},
   "outputs": [],
   "source": [
    "# 加载聚类中心\n",
    "pts_in_hull = np.load('./pts_in_hull.npy')"
   ]
  },
  {
   "cell_type": "code",
   "execution_count": 14,
   "metadata": {},
   "outputs": [],
   "source": [
    "# 读取网络\n",
    "net = cv2.dnn.readNetFromCaffe(protoFile, weightFile)"
   ]
  },
  {
   "cell_type": "code",
   "execution_count": 15,
   "metadata": {},
   "outputs": [],
   "source": [
    "# 将聚类中心填充为1x1卷积核\n",
    "pts_in_hull = pts_in_hull.transpose().reshape(2, 313, 1, 1)\n",
    "net.getLayer(net.getLayerId('class8_ab')).blobs = [pts_in_hull.astype(np.float32)]\n",
    "net.getLayer(net.getLayerId('conv8_313_rh')).blobs = [np.full([1, 313], 2.606, np.float32)]"
   ]
  },
  {
   "cell_type": "code",
   "execution_count": 16,
   "metadata": {},
   "outputs": [],
   "source": [
    "W_in = 224\n",
    "H_in = 224\n",
    "\n",
    "img_rgb = (frame[:, :, [2, 1, 0]] * 1.0 / 255).astype(np.float32)\n",
    "img_lab = cv2.cvtColor(img_rgb, cv2.COLOR_RGB2Lab)\n",
    "img_l = img_lab[:, :, 0]  # 提取出L通道"
   ]
  },
  {
   "cell_type": "code",
   "execution_count": 17,
   "metadata": {},
   "outputs": [],
   "source": [
    "# 将L通道的图像重新设置大小为network的输出大小\n",
    "img_l_rs = cv2.resize(img_l, (W_in, H_in))\n",
    "img_l_rs -= 50 # 从mean-centering减去50\n",
    "net.setInput(cv2.dnn.blobFromImage(img_l_rs))\n",
    "ab_dec = net.forward()[0, :, :, :].transpose((1, 2, 0))  # 结果"
   ]
  },
  {
   "cell_type": "code",
   "execution_count": 18,
   "metadata": {},
   "outputs": [],
   "source": [
    "(H_orig, W_orig) = img_rgb.shape[:2]  # 原始的图片大小\n",
    "ab_dec_us = cv2.resize(ab_dec, (W_orig, H_orig))\n",
    "img_lab_out = np.concatenate((img_l[:, :, np.newaxis], ab_dec_us), axis=2)  # 与原始图片L连接\n",
    "img_bgr_out = np.clip(cv2.cvtColor(img_lab_out, cv2.COLOR_Lab2BGR), 0, 1)"
   ]
  },
  {
   "cell_type": "code",
   "execution_count": 19,
   "metadata": {},
   "outputs": [
    {
     "name": "stdout",
     "output_type": "stream",
     "text": [
      "Done!\n"
     ]
    }
   ],
   "source": [
    "outputFile = 'colorized.png'\n",
    "cv2.imwrite(outputFile, (img_bgr_out * 255).astype(np.uint8))\n",
    "print('Done!')"
   ]
  },
  {
   "cell_type": "code",
   "execution_count": null,
   "metadata": {},
   "outputs": [],
   "source": []
  },
  {
   "cell_type": "code",
   "execution_count": null,
   "metadata": {},
   "outputs": [],
   "source": []
  },
  {
   "cell_type": "code",
   "execution_count": null,
   "metadata": {},
   "outputs": [],
   "source": []
  },
  {
   "cell_type": "code",
   "execution_count": null,
   "metadata": {},
   "outputs": [],
   "source": []
  },
  {
   "cell_type": "code",
   "execution_count": null,
   "metadata": {},
   "outputs": [],
   "source": []
  }
 ],
 "metadata": {
  "kernelspec": {
   "display_name": "Python 3",
   "language": "python",
   "name": "python3"
  },
  "language_info": {
   "codemirror_mode": {
    "name": "ipython",
    "version": 3
   },
   "file_extension": ".py",
   "mimetype": "text/x-python",
   "name": "python",
   "nbconvert_exporter": "python",
   "pygments_lexer": "ipython3",
   "version": "3.5.2"
  }
 },
 "nbformat": 4,
 "nbformat_minor": 2
}
